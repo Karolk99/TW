{
 "cells": [
  {
   "cell_type": "code",
   "execution_count": 1,
   "metadata": {},
   "outputs": [],
   "source": [
    "import pandas as pd"
   ]
  },
  {
   "cell_type": "code",
   "execution_count": 10,
   "metadata": {},
   "outputs": [],
   "source": [
    "from statistics import mean"
   ]
  },
  {
   "cell_type": "code",
   "execution_count": 75,
   "metadata": {},
   "outputs": [
    {
     "data": {
      "text/html": [
       "<div>\n",
       "<style scoped>\n",
       "    .dataframe tbody tr th:only-of-type {\n",
       "        vertical-align: middle;\n",
       "    }\n",
       "\n",
       "    .dataframe tbody tr th {\n",
       "        vertical-align: top;\n",
       "    }\n",
       "\n",
       "    .dataframe thead th {\n",
       "        text-align: right;\n",
       "    }\n",
       "</style>\n",
       "<table border=\"1\" class=\"dataframe\">\n",
       "  <thead>\n",
       "    <tr style=\"text-align: right;\">\n",
       "      <th></th>\n",
       "      <th>buf_size</th>\n",
       "      <th>prod_or_cons</th>\n",
       "      <th>pk_config</th>\n",
       "      <th>is_fair</th>\n",
       "      <th>randomization</th>\n",
       "      <th>operation_nou</th>\n",
       "    </tr>\n",
       "  </thead>\n",
       "  <tbody>\n",
       "    <tr>\n",
       "      <th>0</th>\n",
       "      <td>10000</td>\n",
       "      <td>True</td>\n",
       "      <td>100</td>\n",
       "      <td>False</td>\n",
       "      <td>True</td>\n",
       "      <td>12947</td>\n",
       "    </tr>\n",
       "    <tr>\n",
       "      <th>1</th>\n",
       "      <td>10000</td>\n",
       "      <td>False</td>\n",
       "      <td>100</td>\n",
       "      <td>False</td>\n",
       "      <td>True</td>\n",
       "      <td>12952</td>\n",
       "    </tr>\n",
       "    <tr>\n",
       "      <th>2</th>\n",
       "      <td>10000</td>\n",
       "      <td>True</td>\n",
       "      <td>100</td>\n",
       "      <td>False</td>\n",
       "      <td>True</td>\n",
       "      <td>12960</td>\n",
       "    </tr>\n",
       "    <tr>\n",
       "      <th>3</th>\n",
       "      <td>10000</td>\n",
       "      <td>False</td>\n",
       "      <td>100</td>\n",
       "      <td>False</td>\n",
       "      <td>True</td>\n",
       "      <td>4981</td>\n",
       "    </tr>\n",
       "    <tr>\n",
       "      <th>4</th>\n",
       "      <td>10000</td>\n",
       "      <td>True</td>\n",
       "      <td>100</td>\n",
       "      <td>False</td>\n",
       "      <td>True</td>\n",
       "      <td>9787</td>\n",
       "    </tr>\n",
       "    <tr>\n",
       "      <th>...</th>\n",
       "      <td>...</td>\n",
       "      <td>...</td>\n",
       "      <td>...</td>\n",
       "      <td>...</td>\n",
       "      <td>...</td>\n",
       "      <td>...</td>\n",
       "    </tr>\n",
       "    <tr>\n",
       "      <th>17595</th>\n",
       "      <td>100000</td>\n",
       "      <td>False</td>\n",
       "      <td>1000</td>\n",
       "      <td>True</td>\n",
       "      <td>False</td>\n",
       "      <td>563</td>\n",
       "    </tr>\n",
       "    <tr>\n",
       "      <th>17596</th>\n",
       "      <td>100000</td>\n",
       "      <td>True</td>\n",
       "      <td>1000</td>\n",
       "      <td>True</td>\n",
       "      <td>False</td>\n",
       "      <td>564</td>\n",
       "    </tr>\n",
       "    <tr>\n",
       "      <th>17597</th>\n",
       "      <td>100000</td>\n",
       "      <td>False</td>\n",
       "      <td>1000</td>\n",
       "      <td>True</td>\n",
       "      <td>False</td>\n",
       "      <td>563</td>\n",
       "    </tr>\n",
       "    <tr>\n",
       "      <th>17598</th>\n",
       "      <td>100000</td>\n",
       "      <td>True</td>\n",
       "      <td>1000</td>\n",
       "      <td>True</td>\n",
       "      <td>False</td>\n",
       "      <td>564</td>\n",
       "    </tr>\n",
       "    <tr>\n",
       "      <th>17599</th>\n",
       "      <td>100000</td>\n",
       "      <td>False</td>\n",
       "      <td>1000</td>\n",
       "      <td>True</td>\n",
       "      <td>False</td>\n",
       "      <td>563</td>\n",
       "    </tr>\n",
       "  </tbody>\n",
       "</table>\n",
       "<p>17600 rows × 6 columns</p>\n",
       "</div>"
      ],
      "text/plain": [
       "       buf_size  prod_or_cons  pk_config  is_fair  randomization  \\\n",
       "0         10000          True        100    False           True   \n",
       "1         10000         False        100    False           True   \n",
       "2         10000          True        100    False           True   \n",
       "3         10000         False        100    False           True   \n",
       "4         10000          True        100    False           True   \n",
       "...         ...           ...        ...      ...            ...   \n",
       "17595    100000         False       1000     True          False   \n",
       "17596    100000          True       1000     True          False   \n",
       "17597    100000         False       1000     True          False   \n",
       "17598    100000          True       1000     True          False   \n",
       "17599    100000         False       1000     True          False   \n",
       "\n",
       "       operation_nou  \n",
       "0              12947  \n",
       "1              12952  \n",
       "2              12960  \n",
       "3               4981  \n",
       "4               9787  \n",
       "...              ...  \n",
       "17595            563  \n",
       "17596            564  \n",
       "17597            563  \n",
       "17598            564  \n",
       "17599            563  \n",
       "\n",
       "[17600 rows x 6 columns]"
      ]
     },
     "execution_count": 75,
     "metadata": {},
     "output_type": "execute_result"
    }
   ],
   "source": [
    "table = pd.read_csv(\"prodcons_data.csv\")\n",
    "table"
   ]
  },
  {
   "cell_type": "code",
   "execution_count": 79,
   "metadata": {},
   "outputs": [
    {
     "name": "stdout",
     "output_type": "stream",
     "text": [
      "Producer and Consumer lab4\n",
      "mean value = 1056.9818181818182\n",
      "min value: 539   max value: 6222\n"
     ]
    },
    {
     "data": {
      "image/png": "[encoded data removed]",
      "text/plain": [
       "<Figure size 432x288 with 1 Axes>"
      ]
     },
     "metadata": {
      "needs_background": "light"
     },
     "output_type": "display_data"
    }
   ],
   "source": [
    "table[table[\"is_fair\"]][\"operation_nou\"].hist(bins=20)\n",
    "print(\"Producer and Consumer lab4\")\n",
    "m = mean(table[table[\"is_fair\"]][\"operation_nou\"])\n",
    "val_min = min(table[table[\"is_fair\"]][\"operation_nou\"])\n",
    "val_max = max(table[table[\"is_fair\"]][\"operation_nou\"])\n",
    "suma = sum(table[table[\"is_fair\"]][\"operation_nou\"])\n",
    "print(f\"mean value = {m}\")\n",
    "print(f\"min value: {val_min}   max value: {val_max}\")\n",
    "print(f\"sum: {suma})"
   ]
  },
  {
   "cell_type": "code",
   "execution_count": 80,
   "metadata": {},
   "outputs": [
    {
     "name": "stdout",
     "output_type": "stream",
     "text": [
      "Producer and Consumer lab3\n",
      "mean value = 1768.6601136363636\n",
      "min value: 0   max value: 13022\n"
     ]
    },
    {
     "data": {
      "image/png": "[encoded data removed]",
      "text/plain": [
       "<Figure size 432x288 with 1 Axes>"
      ]
     },
     "metadata": {
      "needs_background": "light"
     },
     "output_type": "display_data"
    }
   ],
   "source": [
    "table[table[\"is_fair\"] == False][\"operation_nou\"].hist(bins=20)\n",
    "print(\"Producer and Consumer lab3\")\n",
    "m = mean(table[table[\"is_fair\"] == False][\"operation_nou\"])\n",
    "val_min = min(table[table[\"is_fair\"] == False][\"operation_nou\"])\n",
    "val_max = max(table[table[\"is_fair\"] == False][\"operation_nou\"])\n",
    "suma = sum(table[table[\"is_fair\"] == False][\"operation_nou\"])\n",
    "print(f\"mean value = {m}\")\n",
    "print(f\"min value: {val_min}   max value: {val_max}\")\n",
    "print(f\"sum: {suma})"
   ]
  },
  {
   "cell_type": "code",
   "execution_count": 63,
   "metadata": {},
   "outputs": [
    {
     "data": {
      "text/html": [
       "<div>\n",
       "<style scoped>\n",
       "    .dataframe tbody tr th:only-of-type {\n",
       "        vertical-align: middle;\n",
       "    }\n",
       "\n",
       "    .dataframe tbody tr th {\n",
       "        vertical-align: top;\n",
       "    }\n",
       "\n",
       "    .dataframe thead th {\n",
       "        text-align: right;\n",
       "    }\n",
       "</style>\n",
       "<table border=\"1\" class=\"dataframe\">\n",
       "  <thead>\n",
       "    <tr style=\"text-align: right;\">\n",
       "      <th></th>\n",
       "      <th>buf_size</th>\n",
       "      <th>prod_or_cons</th>\n",
       "      <th>pk_config</th>\n",
       "      <th>is_fair</th>\n",
       "      <th>randomization</th>\n",
       "      <th>operation_nou</th>\n",
       "    </tr>\n",
       "  </thead>\n",
       "  <tbody>\n",
       "    <tr>\n",
       "      <th>4800</th>\n",
       "      <td>100000</td>\n",
       "      <td>True</td>\n",
       "      <td>1000</td>\n",
       "      <td>False</td>\n",
       "      <td>True</td>\n",
       "      <td>1048</td>\n",
       "    </tr>\n",
       "    <tr>\n",
       "      <th>4801</th>\n",
       "      <td>100000</td>\n",
       "      <td>False</td>\n",
       "      <td>1000</td>\n",
       "      <td>False</td>\n",
       "      <td>True</td>\n",
       "      <td>1042</td>\n",
       "    </tr>\n",
       "    <tr>\n",
       "      <th>4802</th>\n",
       "      <td>100000</td>\n",
       "      <td>True</td>\n",
       "      <td>1000</td>\n",
       "      <td>False</td>\n",
       "      <td>True</td>\n",
       "      <td>1041</td>\n",
       "    </tr>\n",
       "    <tr>\n",
       "      <th>4803</th>\n",
       "      <td>100000</td>\n",
       "      <td>False</td>\n",
       "      <td>1000</td>\n",
       "      <td>False</td>\n",
       "      <td>True</td>\n",
       "      <td>945</td>\n",
       "    </tr>\n",
       "    <tr>\n",
       "      <th>4804</th>\n",
       "      <td>100000</td>\n",
       "      <td>True</td>\n",
       "      <td>1000</td>\n",
       "      <td>False</td>\n",
       "      <td>True</td>\n",
       "      <td>1049</td>\n",
       "    </tr>\n",
       "    <tr>\n",
       "      <th>...</th>\n",
       "      <td>...</td>\n",
       "      <td>...</td>\n",
       "      <td>...</td>\n",
       "      <td>...</td>\n",
       "      <td>...</td>\n",
       "      <td>...</td>\n",
       "    </tr>\n",
       "    <tr>\n",
       "      <th>15595</th>\n",
       "      <td>100000</td>\n",
       "      <td>False</td>\n",
       "      <td>1000</td>\n",
       "      <td>True</td>\n",
       "      <td>True</td>\n",
       "      <td>563</td>\n",
       "    </tr>\n",
       "    <tr>\n",
       "      <th>15596</th>\n",
       "      <td>100000</td>\n",
       "      <td>True</td>\n",
       "      <td>1000</td>\n",
       "      <td>True</td>\n",
       "      <td>True</td>\n",
       "      <td>563</td>\n",
       "    </tr>\n",
       "    <tr>\n",
       "      <th>15597</th>\n",
       "      <td>100000</td>\n",
       "      <td>False</td>\n",
       "      <td>1000</td>\n",
       "      <td>True</td>\n",
       "      <td>True</td>\n",
       "      <td>563</td>\n",
       "    </tr>\n",
       "    <tr>\n",
       "      <th>15598</th>\n",
       "      <td>100000</td>\n",
       "      <td>True</td>\n",
       "      <td>1000</td>\n",
       "      <td>True</td>\n",
       "      <td>True</td>\n",
       "      <td>563</td>\n",
       "    </tr>\n",
       "    <tr>\n",
       "      <th>15599</th>\n",
       "      <td>100000</td>\n",
       "      <td>False</td>\n",
       "      <td>1000</td>\n",
       "      <td>True</td>\n",
       "      <td>True</td>\n",
       "      <td>563</td>\n",
       "    </tr>\n",
       "  </tbody>\n",
       "</table>\n",
       "<p>4000 rows × 6 columns</p>\n",
       "</div>"
      ],
      "text/plain": [
       "       buf_size  prod_or_cons  pk_config  is_fair  randomization  \\\n",
       "4800     100000          True       1000    False           True   \n",
       "4801     100000         False       1000    False           True   \n",
       "4802     100000          True       1000    False           True   \n",
       "4803     100000         False       1000    False           True   \n",
       "4804     100000          True       1000    False           True   \n",
       "...         ...           ...        ...      ...            ...   \n",
       "15595    100000         False       1000     True           True   \n",
       "15596    100000          True       1000     True           True   \n",
       "15597    100000         False       1000     True           True   \n",
       "15598    100000          True       1000     True           True   \n",
       "15599    100000         False       1000     True           True   \n",
       "\n",
       "       operation_nou  \n",
       "4800            1048  \n",
       "4801            1042  \n",
       "4802            1041  \n",
       "4803             945  \n",
       "4804            1049  \n",
       "...              ...  \n",
       "15595            563  \n",
       "15596            563  \n",
       "15597            563  \n",
       "15598            563  \n",
       "15599            563  \n",
       "\n",
       "[4000 rows x 6 columns]"
      ]
     },
     "execution_count": 63,
     "metadata": {},
     "output_type": "execute_result"
    }
   ],
   "source": [
    "example1 = table[table[\"pk_config\"] == 1000]\n",
    "example1 = example1[example1[\"randomization\"]]\n",
    "example1 = example1[example1[\"buf_size\"] == 100000]\n",
    "example1"
   ]
  },
  {
   "cell_type": "code",
   "execution_count": 64,
   "metadata": {},
   "outputs": [
    {
     "name": "stdout",
     "output_type": "stream",
     "text": [
      "Producer and Consumer lab4\n"
     ]
    },
    {
     "data": {
      "image/png": "[encoded data removed]",
      "text/plain": [
       "<Figure size 432x288 with 1 Axes>"
      ]
     },
     "metadata": {
      "needs_background": "light"
     },
     "output_type": "display_data"
    }
   ],
   "source": [
    "example1[example1[\"is_fair\"]][\"operation_nou\"].hist(bins=20)\n",
    "print(\"Producer and Consumer lab4\")\n",
    "m = mean(example1[example1[\"is_fair\"]][\"operation_nou\"])\n",
    "print(f\"mean value = {m}\")"
   ]
  },
  {
   "cell_type": "code",
   "execution_count": 65,
   "metadata": {},
   "outputs": [
    {
     "name": "stdout",
     "output_type": "stream",
     "text": [
      "Producer and Consumer lab3\n"
     ]
    },
    {
     "data": {
      "image/png": "[encoded data removed]",
      "text/plain": [
       "<Figure size 432x288 with 1 Axes>"
      ]
     },
     "metadata": {
      "needs_background": "light"
     },
     "output_type": "display_data"
    }
   ],
   "source": [
    "example1[example1[\"is_fair\"] == False][\"operation_nou\"].hist(bins=20)\n",
    "print(\"Producer and Consumer lab3\")\n",
    "m = mean(example1[example1[\"is_fair\"] == False][\"operation_nou\"])\n",
    "print(f\"mean value = {m}\")"
   ]
  },
  {
   "cell_type": "code",
   "execution_count": 66,
   "metadata": {},
   "outputs": [
    {
     "data": {
      "text/html": [
       "<div>\n",
       "<style scoped>\n",
       "    .dataframe tbody tr th:only-of-type {\n",
       "        vertical-align: middle;\n",
       "    }\n",
       "\n",
       "    .dataframe tbody tr th {\n",
       "        vertical-align: top;\n",
       "    }\n",
       "\n",
       "    .dataframe thead th {\n",
       "        text-align: right;\n",
       "    }\n",
       "</style>\n",
       "<table border=\"1\" class=\"dataframe\">\n",
       "  <thead>\n",
       "    <tr style=\"text-align: right;\">\n",
       "      <th></th>\n",
       "      <th>buf_size</th>\n",
       "      <th>prod_or_cons</th>\n",
       "      <th>pk_config</th>\n",
       "      <th>is_fair</th>\n",
       "      <th>randomization</th>\n",
       "      <th>operation_nou</th>\n",
       "    </tr>\n",
       "  </thead>\n",
       "  <tbody>\n",
       "    <tr>\n",
       "      <th>400</th>\n",
       "      <td>10000</td>\n",
       "      <td>True</td>\n",
       "      <td>1000</td>\n",
       "      <td>False</td>\n",
       "      <td>True</td>\n",
       "      <td>1132</td>\n",
       "    </tr>\n",
       "    <tr>\n",
       "      <th>401</th>\n",
       "      <td>10000</td>\n",
       "      <td>False</td>\n",
       "      <td>1000</td>\n",
       "      <td>False</td>\n",
       "      <td>True</td>\n",
       "      <td>1129</td>\n",
       "    </tr>\n",
       "    <tr>\n",
       "      <th>402</th>\n",
       "      <td>10000</td>\n",
       "      <td>True</td>\n",
       "      <td>1000</td>\n",
       "      <td>False</td>\n",
       "      <td>True</td>\n",
       "      <td>1133</td>\n",
       "    </tr>\n",
       "    <tr>\n",
       "      <th>403</th>\n",
       "      <td>10000</td>\n",
       "      <td>False</td>\n",
       "      <td>1000</td>\n",
       "      <td>False</td>\n",
       "      <td>True</td>\n",
       "      <td>1130</td>\n",
       "    </tr>\n",
       "    <tr>\n",
       "      <th>404</th>\n",
       "      <td>10000</td>\n",
       "      <td>True</td>\n",
       "      <td>1000</td>\n",
       "      <td>False</td>\n",
       "      <td>True</td>\n",
       "      <td>60</td>\n",
       "    </tr>\n",
       "    <tr>\n",
       "      <th>...</th>\n",
       "      <td>...</td>\n",
       "      <td>...</td>\n",
       "      <td>...</td>\n",
       "      <td>...</td>\n",
       "      <td>...</td>\n",
       "      <td>...</td>\n",
       "    </tr>\n",
       "    <tr>\n",
       "      <th>11195</th>\n",
       "      <td>10000</td>\n",
       "      <td>False</td>\n",
       "      <td>1000</td>\n",
       "      <td>True</td>\n",
       "      <td>True</td>\n",
       "      <td>539</td>\n",
       "    </tr>\n",
       "    <tr>\n",
       "      <th>11196</th>\n",
       "      <td>10000</td>\n",
       "      <td>True</td>\n",
       "      <td>1000</td>\n",
       "      <td>True</td>\n",
       "      <td>True</td>\n",
       "      <td>539</td>\n",
       "    </tr>\n",
       "    <tr>\n",
       "      <th>11197</th>\n",
       "      <td>10000</td>\n",
       "      <td>False</td>\n",
       "      <td>1000</td>\n",
       "      <td>True</td>\n",
       "      <td>True</td>\n",
       "      <td>539</td>\n",
       "    </tr>\n",
       "    <tr>\n",
       "      <th>11198</th>\n",
       "      <td>10000</td>\n",
       "      <td>True</td>\n",
       "      <td>1000</td>\n",
       "      <td>True</td>\n",
       "      <td>True</td>\n",
       "      <td>539</td>\n",
       "    </tr>\n",
       "    <tr>\n",
       "      <th>11199</th>\n",
       "      <td>10000</td>\n",
       "      <td>False</td>\n",
       "      <td>1000</td>\n",
       "      <td>True</td>\n",
       "      <td>True</td>\n",
       "      <td>539</td>\n",
       "    </tr>\n",
       "  </tbody>\n",
       "</table>\n",
       "<p>4000 rows × 6 columns</p>\n",
       "</div>"
      ],
      "text/plain": [
       "       buf_size  prod_or_cons  pk_config  is_fair  randomization  \\\n",
       "400       10000          True       1000    False           True   \n",
       "401       10000         False       1000    False           True   \n",
       "402       10000          True       1000    False           True   \n",
       "403       10000         False       1000    False           True   \n",
       "404       10000          True       1000    False           True   \n",
       "...         ...           ...        ...      ...            ...   \n",
       "11195     10000         False       1000     True           True   \n",
       "11196     10000          True       1000     True           True   \n",
       "11197     10000         False       1000     True           True   \n",
       "11198     10000          True       1000     True           True   \n",
       "11199     10000         False       1000     True           True   \n",
       "\n",
       "       operation_nou  \n",
       "400             1132  \n",
       "401             1129  \n",
       "402             1133  \n",
       "403             1130  \n",
       "404               60  \n",
       "...              ...  \n",
       "11195            539  \n",
       "11196            539  \n",
       "11197            539  \n",
       "11198            539  \n",
       "11199            539  \n",
       "\n",
       "[4000 rows x 6 columns]"
      ]
     },
     "execution_count": 66,
     "metadata": {},
     "output_type": "execute_result"
    }
   ],
   "source": [
    "example1 = table[table[\"pk_config\"] == 1000]\n",
    "example1 = example1[example1[\"randomization\"]]\n",
    "example1 = example1[example1[\"buf_size\"] == 10000]\n",
    "example1"
   ]
  },
  {
   "cell_type": "code",
   "execution_count": 67,
   "metadata": {},
   "outputs": [
    {
     "name": "stdout",
     "output_type": "stream",
     "text": [
      "Producer and Consumer lab4\n"
     ]
    },
    {
     "data": {
      "image/png": "[encoded data removed]",
      "text/plain": [
       "<Figure size 432x288 with 1 Axes>"
      ]
     },
     "metadata": {
      "needs_background": "light"
     },
     "output_type": "display_data"
    }
   ],
   "source": [
    "example1[example1[\"is_fair\"]][\"operation_nou\"].hist(bins=20)\n",
    "print(\"Producer and Consumer lab4\")\n",
    "m = mean(example1[example1[\"is_fair\"]][\"operation_nou\"])\n",
    "print(f\"mean value = {m}\")"
   ]
  },
  {
   "cell_type": "code",
   "execution_count": 68,
   "metadata": {},
   "outputs": [
    {
     "name": "stdout",
     "output_type": "stream",
     "text": [
      "Producer and Consumer lab3\n"
     ]
    },
    {
     "data": {
      "image/png": "[encoded data removed]",
      "text/plain": [
       "<Figure size 432x288 with 1 Axes>"
      ]
     },
     "metadata": {
      "needs_background": "light"
     },
     "output_type": "display_data"
    }
   ],
   "source": [
    "example1[example1[\"is_fair\"] == False][\"operation_nou\"].hist(bins=20)\n",
    "print(\"Producer and Consumer lab3\")\n",
    "m = mean(example1[example1[\"is_fair\"] == False][\"operation_nou\"])\n",
    "print(f\"mean value = {m}\")"
   ]
  },
  {
   "cell_type": "code",
   "execution_count": null,
   "metadata": {},
   "outputs": [],
   "source": []
  }
 ],
 "metadata": {
  "kernelspec": {
   "display_name": "Python 3",
   "language": "python",
   "name": "python3"
  },
  "language_info": {
   "codemirror_mode": {
    "name": "ipython",
    "version": 3
   },
   "file_extension": ".py",
   "mimetype": "text/x-python",
   "name": "python",
   "nbconvert_exporter": "python",
   "pygments_lexer": "ipython3",
   "version": "3.7.4"
  }
 },
 "nbformat": 4,
 "nbformat_minor": 4
}
